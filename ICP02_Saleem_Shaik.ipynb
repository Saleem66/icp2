{
  "nbformat": 4,
  "nbformat_minor": 0,
  "metadata": {
    "colab": {
      "provenance": []
    },
    "kernelspec": {
      "name": "python3",
      "display_name": "Python 3"
    },
    "language_info": {
      "name": "python"
    }
  },
  "cells": [
    {
      "cell_type": "code",
      "execution_count": 4,
      "metadata": {
        "colab": {
          "base_uri": "https://localhost:8080/"
        },
        "id": "5wKJazlCKUL1",
        "outputId": "11a1d69e-aef3-4a71-d1f3-8b82d62975d6"
      },
      "outputs": [
        {
          "output_type": "stream",
          "name": "stdout",
          "text": [
            "Few benefits as full time employee.\n",
            "Average salary: 148750.0\n"
          ]
        }
      ],
      "source": [
        "class Employee:\n",
        "    # Creating a data member to count the number of Employees\n",
        "\n",
        "   no_of_employees = 0\n",
        "   # Initializing name, family, salary, department\n",
        "\n",
        "   def __init__(self, name, family_name, salary, department):\n",
        "       self.__name = name\n",
        "       self.__family_name = family_name\n",
        "       self.salary = salary\n",
        "       self.__department = department\n",
        "       Employee.no_of_employees += 1\n",
        "    #Creating a function to average salary\n",
        "   @staticmethod\n",
        "   def average_salary(employees):\n",
        "\n",
        "       sum = 0\n",
        "       for employee in employees:\n",
        "           sum += employee.salary\n",
        "       return sum / Employee.no_of_employees\n",
        "     #Creating a Fulltime Employee class\n",
        "class FulltimeEmployee(Employee):\n",
        "\n",
        "   def __init__(self, name, family_name, salary, department):\n",
        "       super().__init__(name, family_name, salary, department)\n",
        "\n",
        "   def full_time_benefits(self):\n",
        "       print(\"Few benefits as full time employee.\")\n",
        "\n",
        "# Creating the instances of Fulltime Employee class and Employee class and also calling their member functions.\n",
        "\n",
        "def main():\n",
        "   employees = []\n",
        "   fte1 = FulltimeEmployee(\"Employee1\", \"FamilyName1\", 120000, \"Management\")\n",
        "   fte1.full_time_benefits()\n",
        "   employees.append(fte1)\n",
        "   fte2 = FulltimeEmployee(\"Employee2\", \"FamilyName2\", 180000, \"RnD\")\n",
        "   employees.append(fte2)\n",
        "   emp1 = Employee(\"Employee3\", \"FamilyName3\", 160000, \"Marketing\")\n",
        "   employees.append(emp1)\n",
        "   emp2 = Employee(\"Employee4\", \"FamilyName4\", 135000, \"HR\")\n",
        "   employees.append(emp2)\n",
        "   print(\"Average salary:\", FulltimeEmployee.average_salary(employees))\n",
        "\n",
        "\n",
        "if __name__ == \"__main__\":\n",
        "   main()"
      ]
    },
    {
      "cell_type": "code",
      "source": [
        "import numpy as np\n",
        "\n",
        "                                  #Creating a random vector of size 20\n",
        "v = np.random.uniform(1, 20, 20)\n",
        "\n",
        "v = v. reshape(4, 5)  # Reshape the array to 4 by 5\n",
        "\n",
        "print(v)\n",
        "\n",
        "v[np.arange(4), v.argmax(axis=1)]=0 # Replace the max value with 0 (axis=1)\n",
        "print(v)"
      ],
      "metadata": {
        "colab": {
          "base_uri": "https://localhost:8080/"
        },
        "id": "nDv1WJU7Kslt",
        "outputId": "0e2b3afd-c276-4541-d86c-8618eedd6198"
      },
      "execution_count": 2,
      "outputs": [
        {
          "output_type": "stream",
          "name": "stdout",
          "text": [
            "[[19.50272524 14.35995128 14.17287176 16.82294034  5.90134818]\n",
            " [18.58032159 12.51468346  2.64537929  1.62530545  3.2777899 ]\n",
            " [ 5.73963239  2.54131511 16.51052508 13.67653268 11.88925356]\n",
            " [12.45707424  1.0463345  19.33823942 14.73032153 11.39152198]]\n",
            "[[ 0.         14.35995128 14.17287176 16.82294034  5.90134818]\n",
            " [ 0.         12.51468346  2.64537929  1.62530545  3.2777899 ]\n",
            " [ 5.73963239  2.54131511  0.         13.67653268 11.88925356]\n",
            " [12.45707424  1.0463345   0.         14.73032153 11.39152198]]\n"
          ]
        }
      ]
    }
  ]
}